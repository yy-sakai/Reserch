{
 "cells": [
  {
   "cell_type": "code",
   "execution_count": 2,
   "metadata": {},
   "outputs": [],
   "source": [
    "import numpy as np\n",
    "import matplotlib.pyplot as plt"
   ]
  },
  {
   "cell_type": "code",
   "execution_count": 3,
   "metadata": {},
   "outputs": [],
   "source": [
    "import sys\n",
    "sys.path.append(\"../\")\n",
    "from c_transform import c_transform"
   ]
  },
  {
   "cell_type": "code",
   "execution_count": 4,
   "metadata": {},
   "outputs": [],
   "source": [
    "def dist(a, b):\n",
    "    return abs(a - b)"
   ]
  },
  {
   "cell_type": "code",
   "execution_count": 5,
   "metadata": {},
   "outputs": [],
   "source": [
    "def push_forward1(mu, phi_c, h):\n",
    "    assert mu.shape == phi_c.shape\n",
    "    \n",
    "    nu = np.zeros_like(mu)\n",
    "    #nu.fill(0.)                  # 0.で初期化 \n",
    "    n = phi_c.shape[0]             #  n = \\phi_cの要素数\n",
    "\n",
    "    # map each cell\n",
    "    for i, mu_val in enumerate(mu):\n",
    "        if mu_val == 0.:                # muの値が0.ならt_mu[ti], t_mu[tio]も0なのでスキップ\n",
    "            continue\n",
    "        # approximate T_#φ in each corner of the cell\n",
    "        t_phi = np.zeros((2,))\n",
    "        # corner indices\n",
    "        ci = i\n",
    "        cj = i + 1\n",
    "        # values of phi_c at the centers of the adjecent cells\n",
    "        \n",
    "        \"\"\"\n",
    "        -'---'---'---'\n",
    "        i-1  i  i+1 i+2\n",
    "         a   b   c   d\n",
    "        \"\"\"\n",
    "        \"\"\"\n",
    "        #pattern 1----------\n",
    "        # セル中心での値を持つ配列から、ci, cjに対応する値を取得する\n",
    "        # インデックスが負の場合は0に、nを超える場合はn-1にクリップする\n",
    "        a = phi_c[max(ci - 1, 0): min(ci, n)].flatten()[0]\n",
    "        b = phi_c[max(cj - 1, 0): min(cj, n)].flatten()[0]\n",
    "        # compute \"x - nabla(phi^c)\" using a simple 2nd order central finite difference\n",
    "        t_phi[0] = ci * h - 0.5 / h * (b - a)         # (b-a)/2h\n",
    "        t_phi[1] = cj * h - 0.5 / h * (b - a)\n",
    "        #-----------------------------\n",
    "        \"\"\"\n",
    "        #pattern 2\n",
    "        a = phi_c[max(ci - 1, 0)]\n",
    "        b = phi_c[max(ci - 0, 0)]\n",
    "        c = phi_c[min(cj + 0, n - 1)]\n",
    "        d = phi_c[min(cj + 1, n - 1)]\n",
    "        # compute \"x - \\nabla(phi^c)\"  using a simple 2nd order central finite difference\n",
    "        t_phi[0] = (ci * h) - ((c - a) / (2 * h))\n",
    "        t_phi[1] = (cj * h) - ((d - b) / (2 * h))\n",
    "\n",
    "        x_stretch = dist(t_phi[0], t_phi[1])\n",
    "        x_samples = max(int(np.ceil(x_stretch / h)), 1)  #距離を幅hで割り、小数点以下繰り上げることで,x_stretchの間のグリッドの数を計算.最低グリッド1つ.\n",
    "\n",
    "        # distribute the cell mass uniformly over all samples\n",
    "        #輸送前のmuの値を輸送後の場所へ均等に分配するため,輸送後各グリッドのmassを計算\n",
    "        mass = mu_val / x_samples\n",
    "\n",
    "\n",
    "\n",
    "        for k in range(x_samples):\n",
    "            a = (k + 0.5) / x_samples      #a: [0, 1] \n",
    "\n",
    "            # sample position in [0,1]\n",
    "            x = (1. - a) * t_phi[0] + a * t_phi[1]\n",
    "\n",
    "            # position with respect to cell grid\n",
    "            xcell = x / h - 0.5\n",
    "\n",
    "            ti = min(max(int(np.floor(xcell)), 0), n - 1)  #np.floor: 小数点以下切り捨て           \n",
    "            tio = min(ti + 1, n - 1)\n",
    "\n",
    "            a = xcell - np.floor(xcell)\n",
    "\n",
    "            nu[ti] += (1. - a) * mass\n",
    "            nu[tio] += a * mass\n",
    "            \n",
    "    return nu"
   ]
  },
  {
   "attachments": {},
   "cell_type": "markdown",
   "metadata": {},
   "source": [
    "-'---'---'---' \n",
    "\n",
    "$i-1 \\, i i+1 i+2 $\n",
    "\n",
    " a   b   c   d"
   ]
  },
  {
   "cell_type": "code",
   "execution_count": 6,
   "metadata": {},
   "outputs": [],
   "source": [
    "def lap_solve(f):\n",
    "    \"\"\"Solves (-\\Delta)u = f with Neumann boundary condition on [0,1]. \n",
    "    f needs to be given at all nodes including the endpoints. The mean of f is set to zero.\"\"\"\n",
    "    # even periodic extension to get cosine series; imaginary part of the result will be zero\n",
    "    pf = np.concatenate((f, f[-2:0:-1]))\n",
    "    ff = np.fft.rfft(pf)\n",
    "    xi = np.linspace(0, 1, len(f))\n",
    "    N = len(f) - 1\n",
    "    ff[0] = 0 # set mean to 0\n",
    "    ff[1:] /= 4 * np.sin(0.5 * np.pi * xi[1:])**2 * N**2\n",
    "    # perform inverse fft and remove the even periodic extension\n",
    "    return np.fft.irfft(ff)[:len(f)]"
   ]
  },
  {
   "cell_type": "code",
   "execution_count": 7,
   "metadata": {},
   "outputs": [
    {
     "data": {
      "image/png": "[encoded data removed]",
      "text/plain": [
       "<Figure size 432x288 with 1 Axes>"
      ]
     },
     "metadata": {
      "needs_background": "light"
     },
     "output_type": "display_data"
    },
    {
     "data": {
      "image/png": "[encoded data removed]",
      "text/plain": [
       "<Figure size 432x288 with 1 Axes>"
      ]
     },
     "metadata": {
      "needs_background": "light"
     },
     "output_type": "display_data"
    },
    {
     "data": {
      "image/png": "[encoded data removed]",
      "text/plain": [
       "<Figure size 432x288 with 1 Axes>"
      ]
     },
     "metadata": {
      "needs_background": "light"
     },
     "output_type": "display_data"
    }
   ],
   "source": [
    "x = np.linspace(-10, 10, 101)\n",
    "p = x\n",
    "#y = np.random.random(len(x))\n",
    "y = np.sin(0.5 * x)\n",
    "y = 0.5 * x * x\n",
    "#y = 0 * x\n",
    "\n",
    "yy, _ = c_transform(x, y, p)\n",
    "t, iopt = c_transform(p, yy, p)\n",
    "plt.plot(x, t)\n",
    "plt.show() \n",
    "\n",
    "h = 0.2\n",
    "mu = np.ones_like(x)\n",
    "nu = push_forward1(mu, t, h)\n",
    "\n",
    "plt.plot(x, mu)\n",
    "plt.plot(x, nu)\n",
    "plt.show() \n",
    "\n",
    "plt.plot(x, lap_solve(nu - mu))\n",
    "plt.show()"
   ]
  }
 ],
 "metadata": {
  "kernelspec": {
   "display_name": "Python 3",
   "language": "python",
   "name": "python3"
  },
  "language_info": {
   "codemirror_mode": {
    "name": "ipython",
    "version": 3
   },
   "file_extension": ".py",
   "mimetype": "text/x-python",
   "name": "python",
   "nbconvert_exporter": "python",
   "pygments_lexer": "ipython3",
   "version": "3.8.10"
  },
  "orig_nbformat": 4,
  "vscode": {
   "interpreter": {
    "hash": "162f280218b02464af89ec8e0a72ae0d843238747410ecd1b503f476d337174a"
   }
  }
 },
 "nbformat": 4,
 "nbformat_minor": 2
}
